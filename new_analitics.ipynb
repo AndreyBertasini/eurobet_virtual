{
 "cells": [
  {
   "cell_type": "code",
   "id": "initial_id",
   "metadata": {
    "collapsed": true,
    "ExecuteTime": {
     "end_time": "2025-05-14T12:29:05.694119Z",
     "start_time": "2025-05-14T12:29:05.690879Z"
    }
   },
   "source": [
    "import numpy as np\n",
    "import pandas as pd\n",
    "import matplotlib.pyplot as plt\n",
    "import seaborn as sns"
   ],
   "outputs": [],
   "execution_count": 13
  },
  {
   "metadata": {
    "ExecuteTime": {
     "end_time": "2025-05-14T12:29:05.833455Z",
     "start_time": "2025-05-14T12:29:05.725588Z"
    }
   },
   "cell_type": "code",
   "source": "data = pd.read_csv('virtual_matches_data.csv')",
   "id": "afda23063d37fbe7",
   "outputs": [],
   "execution_count": 14
  },
  {
   "metadata": {
    "ExecuteTime": {
     "end_time": "2025-05-14T12:29:05.916909Z",
     "start_time": "2025-05-14T12:29:05.882544Z"
    }
   },
   "cell_type": "code",
   "source": "data.head()",
   "id": "3748a2f5e33ba88f",
   "outputs": [
    {
     "data": {
      "text/plain": [
       "         date      hour home_team   away_team score  home_goals  away_goals  \\\n",
       "0  13-05-2025  23:55:00   Croazia  Portogallo   2-1           2           1   \n",
       "1  13-05-2025  23:50:00  Colombia      Serbia   2-1           2           1   \n",
       "2  13-05-2025  23:45:00      Cile    Germania   2-0           2           0   \n",
       "3  13-05-2025  23:40:00      Cile     Nigeria   0-1           0           1   \n",
       "4  13-05-2025  23:35:00   Brasile      Serbia   1-0           1           0   \n",
       "\n",
       "              datetime  odds_1 result   over_under_25  odds_over_under_25  \\\n",
       "0  2025-05-13 23:55:00     230      1   Over 2,5 Goal                 246   \n",
       "1  2025-05-13 23:50:00     312      1   Over 2,5 Goal                 254   \n",
       "2  2025-05-13 23:45:00     242      1  Under 2,5 Goal                 129   \n",
       "3  2025-05-13 23:40:00     274      2  Under 2,5 Goal                 129   \n",
       "4  2025-05-13 23:35:00     211      1  Under 2,5 Goal                 130   \n",
       "\n",
       "  goal_no_goal  odds_goal_no_goal  \n",
       "0           GG                222  \n",
       "1           GG                221  \n",
       "2           NG                138  \n",
       "3           NG                139  \n",
       "4           NG                138  "
      ],
      "text/html": [
       "<div>\n",
       "<style scoped>\n",
       "    .dataframe tbody tr th:only-of-type {\n",
       "        vertical-align: middle;\n",
       "    }\n",
       "\n",
       "    .dataframe tbody tr th {\n",
       "        vertical-align: top;\n",
       "    }\n",
       "\n",
       "    .dataframe thead th {\n",
       "        text-align: right;\n",
       "    }\n",
       "</style>\n",
       "<table border=\"1\" class=\"dataframe\">\n",
       "  <thead>\n",
       "    <tr style=\"text-align: right;\">\n",
       "      <th></th>\n",
       "      <th>date</th>\n",
       "      <th>hour</th>\n",
       "      <th>home_team</th>\n",
       "      <th>away_team</th>\n",
       "      <th>score</th>\n",
       "      <th>home_goals</th>\n",
       "      <th>away_goals</th>\n",
       "      <th>datetime</th>\n",
       "      <th>odds_1</th>\n",
       "      <th>result</th>\n",
       "      <th>over_under_25</th>\n",
       "      <th>odds_over_under_25</th>\n",
       "      <th>goal_no_goal</th>\n",
       "      <th>odds_goal_no_goal</th>\n",
       "    </tr>\n",
       "  </thead>\n",
       "  <tbody>\n",
       "    <tr>\n",
       "      <th>0</th>\n",
       "      <td>13-05-2025</td>\n",
       "      <td>23:55:00</td>\n",
       "      <td>Croazia</td>\n",
       "      <td>Portogallo</td>\n",
       "      <td>2-1</td>\n",
       "      <td>2</td>\n",
       "      <td>1</td>\n",
       "      <td>2025-05-13 23:55:00</td>\n",
       "      <td>230</td>\n",
       "      <td>1</td>\n",
       "      <td>Over 2,5 Goal</td>\n",
       "      <td>246</td>\n",
       "      <td>GG</td>\n",
       "      <td>222</td>\n",
       "    </tr>\n",
       "    <tr>\n",
       "      <th>1</th>\n",
       "      <td>13-05-2025</td>\n",
       "      <td>23:50:00</td>\n",
       "      <td>Colombia</td>\n",
       "      <td>Serbia</td>\n",
       "      <td>2-1</td>\n",
       "      <td>2</td>\n",
       "      <td>1</td>\n",
       "      <td>2025-05-13 23:50:00</td>\n",
       "      <td>312</td>\n",
       "      <td>1</td>\n",
       "      <td>Over 2,5 Goal</td>\n",
       "      <td>254</td>\n",
       "      <td>GG</td>\n",
       "      <td>221</td>\n",
       "    </tr>\n",
       "    <tr>\n",
       "      <th>2</th>\n",
       "      <td>13-05-2025</td>\n",
       "      <td>23:45:00</td>\n",
       "      <td>Cile</td>\n",
       "      <td>Germania</td>\n",
       "      <td>2-0</td>\n",
       "      <td>2</td>\n",
       "      <td>0</td>\n",
       "      <td>2025-05-13 23:45:00</td>\n",
       "      <td>242</td>\n",
       "      <td>1</td>\n",
       "      <td>Under 2,5 Goal</td>\n",
       "      <td>129</td>\n",
       "      <td>NG</td>\n",
       "      <td>138</td>\n",
       "    </tr>\n",
       "    <tr>\n",
       "      <th>3</th>\n",
       "      <td>13-05-2025</td>\n",
       "      <td>23:40:00</td>\n",
       "      <td>Cile</td>\n",
       "      <td>Nigeria</td>\n",
       "      <td>0-1</td>\n",
       "      <td>0</td>\n",
       "      <td>1</td>\n",
       "      <td>2025-05-13 23:40:00</td>\n",
       "      <td>274</td>\n",
       "      <td>2</td>\n",
       "      <td>Under 2,5 Goal</td>\n",
       "      <td>129</td>\n",
       "      <td>NG</td>\n",
       "      <td>139</td>\n",
       "    </tr>\n",
       "    <tr>\n",
       "      <th>4</th>\n",
       "      <td>13-05-2025</td>\n",
       "      <td>23:35:00</td>\n",
       "      <td>Brasile</td>\n",
       "      <td>Serbia</td>\n",
       "      <td>1-0</td>\n",
       "      <td>1</td>\n",
       "      <td>0</td>\n",
       "      <td>2025-05-13 23:35:00</td>\n",
       "      <td>211</td>\n",
       "      <td>1</td>\n",
       "      <td>Under 2,5 Goal</td>\n",
       "      <td>130</td>\n",
       "      <td>NG</td>\n",
       "      <td>138</td>\n",
       "    </tr>\n",
       "  </tbody>\n",
       "</table>\n",
       "</div>"
      ]
     },
     "execution_count": 15,
     "metadata": {},
     "output_type": "execute_result"
    }
   ],
   "execution_count": 15
  },
  {
   "metadata": {
    "ExecuteTime": {
     "end_time": "2025-05-14T12:29:06.081089Z",
     "start_time": "2025-05-14T12:29:06.062209Z"
    }
   },
   "cell_type": "code",
   "source": "data.result.value_counts(normalize=True)",
   "id": "7ffcc36731ad42d5",
   "outputs": [
    {
     "data": {
      "text/plain": [
       "result\n",
       "2    0.372726\n",
       "1    0.356085\n",
       "X    0.271188\n",
       "Name: proportion, dtype: float64"
      ]
     },
     "execution_count": 16,
     "metadata": {},
     "output_type": "execute_result"
    }
   ],
   "execution_count": 16
  },
  {
   "metadata": {},
   "cell_type": "markdown",
   "source": [
    "Let's analyze the distances between draws (matches with result 'X') and create a table showing:\n",
    "1. The distribution of games between consecutive draws in specified ranges\n",
    "2. Calculate percentages and cumulative percentages for each range"
   ],
   "id": "bdfec03cd8f6a8ac"
  },
  {
   "metadata": {
    "ExecuteTime": {
     "end_time": "2025-05-14T12:30:37.671611Z",
     "start_time": "2025-05-14T12:30:37.657313Z"
    }
   },
   "cell_type": "code",
   "source": [
    "# Find indices where result is 'X' (draws)\n",
    "draw_indices = data[data['result'] == 'X'].index\n",
    "\n",
    "# Calculate distances between consecutive draws\n",
    "distances = np.diff(draw_indices)\n",
    "\n",
    "# Define the ranges for analysis\n",
    "bins = [0, 1, 3, 5, 7, 10, 12, 15, float('inf')]\n",
    "labels = ['0-1', '1-3', '3-5', '5-7', '7-10', '10-12', '12-15', '15+']\n",
    "\n",
    "# Create distribution table\n",
    "dist_df = pd.DataFrame({\n",
    "    'Range': labels,\n",
    "    'Count': pd.cut(distances, bins=bins, labels=labels).value_counts(),\n",
    "})\n",
    "\n",
    "# Calculate percentages and cumulative percentages\n",
    "total = dist_df['Count'].sum()\n",
    "dist_df['Percentage'] = (dist_df['Count'] / total * 100).round()\n",
    "dist_df['Cumulative %'] = dist_df['Percentage'].cumsum().round()\n",
    "\n",
    "# Sort by the ranges in original order\n",
    "dist_df = dist_df.reindex(labels)\n",
    "dist_df"
   ],
   "id": "c7b63eeb9d8ae6c1",
   "outputs": [
    {
     "data": {
      "text/plain": [
       "       Range  Count  Percentage  Cumulative %\n",
       "0-1      0-1   1973        26.0          26.0\n",
       "1-3      1-3   2627        35.0          61.0\n",
       "3-5      3-5   1413        19.0          80.0\n",
       "5-7      5-7    701         9.0          89.0\n",
       "7-10    7-10    504         7.0          96.0\n",
       "10-12  10-12    151         2.0          98.0\n",
       "12-15  12-15     90         1.0          99.0\n",
       "15+      15+     69         1.0         100.0"
      ],
      "text/html": [
       "<div>\n",
       "<style scoped>\n",
       "    .dataframe tbody tr th:only-of-type {\n",
       "        vertical-align: middle;\n",
       "    }\n",
       "\n",
       "    .dataframe tbody tr th {\n",
       "        vertical-align: top;\n",
       "    }\n",
       "\n",
       "    .dataframe thead th {\n",
       "        text-align: right;\n",
       "    }\n",
       "</style>\n",
       "<table border=\"1\" class=\"dataframe\">\n",
       "  <thead>\n",
       "    <tr style=\"text-align: right;\">\n",
       "      <th></th>\n",
       "      <th>Range</th>\n",
       "      <th>Count</th>\n",
       "      <th>Percentage</th>\n",
       "      <th>Cumulative %</th>\n",
       "    </tr>\n",
       "  </thead>\n",
       "  <tbody>\n",
       "    <tr>\n",
       "      <th>0-1</th>\n",
       "      <td>0-1</td>\n",
       "      <td>1973</td>\n",
       "      <td>26.0</td>\n",
       "      <td>26.0</td>\n",
       "    </tr>\n",
       "    <tr>\n",
       "      <th>1-3</th>\n",
       "      <td>1-3</td>\n",
       "      <td>2627</td>\n",
       "      <td>35.0</td>\n",
       "      <td>61.0</td>\n",
       "    </tr>\n",
       "    <tr>\n",
       "      <th>3-5</th>\n",
       "      <td>3-5</td>\n",
       "      <td>1413</td>\n",
       "      <td>19.0</td>\n",
       "      <td>80.0</td>\n",
       "    </tr>\n",
       "    <tr>\n",
       "      <th>5-7</th>\n",
       "      <td>5-7</td>\n",
       "      <td>701</td>\n",
       "      <td>9.0</td>\n",
       "      <td>89.0</td>\n",
       "    </tr>\n",
       "    <tr>\n",
       "      <th>7-10</th>\n",
       "      <td>7-10</td>\n",
       "      <td>504</td>\n",
       "      <td>7.0</td>\n",
       "      <td>96.0</td>\n",
       "    </tr>\n",
       "    <tr>\n",
       "      <th>10-12</th>\n",
       "      <td>10-12</td>\n",
       "      <td>151</td>\n",
       "      <td>2.0</td>\n",
       "      <td>98.0</td>\n",
       "    </tr>\n",
       "    <tr>\n",
       "      <th>12-15</th>\n",
       "      <td>12-15</td>\n",
       "      <td>90</td>\n",
       "      <td>1.0</td>\n",
       "      <td>99.0</td>\n",
       "    </tr>\n",
       "    <tr>\n",
       "      <th>15+</th>\n",
       "      <td>15+</td>\n",
       "      <td>69</td>\n",
       "      <td>1.0</td>\n",
       "      <td>100.0</td>\n",
       "    </tr>\n",
       "  </tbody>\n",
       "</table>\n",
       "</div>"
      ]
     },
     "execution_count": 19,
     "metadata": {},
     "output_type": "execute_result"
    }
   ],
   "execution_count": 19
  },
  {
   "metadata": {
    "ExecuteTime": {
     "end_time": "2025-05-14T12:29:07.047619Z",
     "start_time": "2025-05-14T12:29:06.589385Z"
    }
   },
   "cell_type": "code",
   "source": [
    "# Visualize the distribution\n",
    "plt.figure(figsize=(12, 6))\n",
    "plt.bar(dist_df.index, dist_df['Percentage'])\n",
    "plt.title('Distribution of Distances Between Draws')\n",
    "plt.xlabel('Games Between Draws')\n",
    "plt.ylabel('Percentage')\n",
    "plt.xticks(rotation=45)\n",
    "plt.grid(True, alpha=0.3)\n",
    "plt.show()\n"
   ],
   "id": "9697601538f611fa",
   "outputs": [
    {
     "data": {
      "text/plain": [
       "<Figure size 1200x600 with 1 Axes>"
      ],
      "image/png": "[encoded data removed]"
     },
     "metadata": {},
     "output_type": "display_data"
    }
   ],
   "execution_count": 18
  },
  {
   "metadata": {},
   "cell_type": "markdown",
   "source": [
    "# Analisi delle Sequenze di Pareggi e Predizione\n",
    "\n",
    "Analizzeremo i pattern delle sequenze di pareggi (risultato 'X') per cercare di prevedere quando potrebbero verificarsi i prossimi. L'analisi includerà:\n",
    "1. Calcolo delle probabilità condizionali di pareggio dopo sequenze specifiche\n",
    "2. Analisi delle serie temporali dei pareggi\n",
    "3. Creazione di un semplice modello predittivo"
   ],
   "id": "7a278e78069289fa"
  },
  {
   "metadata": {
    "ExecuteTime": {
     "end_time": "2025-05-14T12:32:49.497195Z",
     "start_time": "2025-05-14T12:32:35.785636Z"
    }
   },
   "cell_type": "code",
   "source": [
    "# Creiamo una colonna per identificare quante partite sono passate dall'ultimo pareggio\n",
    "data['games_since_draw'] = 0\n",
    "last_draw = 0\n",
    "\n",
    "for idx in range(len(data)):\n",
    "    if data.iloc[idx]['result'] == 'X':\n",
    "        last_draw = 0\n",
    "    else:\n",
    "        last_draw += 1\n",
    "    data.iloc[idx, data.columns.get_loc('games_since_draw')] = last_draw"
   ],
   "id": "f61db2b9409359b1",
   "outputs": [],
   "execution_count": 24
  },
  {
   "metadata": {
    "ExecuteTime": {
     "end_time": "2025-05-14T12:32:49.686128Z",
     "start_time": "2025-05-14T12:32:49.534440Z"
    }
   },
   "cell_type": "code",
   "source": [
    "# Calcoliamo le probabilità condizionali di pareggio dato il numero di partite dall'ultimo pareggio\n",
    "conditional_probs = pd.DataFrame()\n",
    "conditional_probs['games_since_draw'] = range(0, 16)\n",
    "conditional_probs['draw_probability'] = [\n",
    "    len(data[(data['games_since_draw'] == i) & (data['result'].shift(-1) == 'X')]) /\n",
    "    len(data[data['games_since_draw'] == i])\n",
    "    for i in range(16)\n",
    "]"
   ],
   "id": "63391fcee68e74ef",
   "outputs": [],
   "execution_count": 25
  },
  {
   "metadata": {
    "ExecuteTime": {
     "end_time": "2025-05-14T12:32:50.226282Z",
     "start_time": "2025-05-14T12:32:49.713181Z"
    }
   },
   "cell_type": "code",
   "source": [
    "# Visualizziamo le probabilità condizionali\n",
    "plt.figure(figsize=(12, 6))\n",
    "plt.plot(conditional_probs['games_since_draw'],\n",
    "         conditional_probs['draw_probability'],\n",
    "         marker='o')\n",
    "plt.title('Probabilità di Pareggio vs Partite dall\\'ultimo Pareggio')\n",
    "plt.xlabel('Partite dall\\'ultimo Pareggio')\n",
    "plt.ylabel('Probabilità di Pareggio')\n",
    "plt.grid(True)\n",
    "plt.show()"
   ],
   "id": "2ef091e023752261",
   "outputs": [
    {
     "data": {
      "text/plain": [
       "<Figure size 1200x600 with 1 Axes>"
      ],
      "image/png": "[encoded data removed]"
     },
     "metadata": {},
     "output_type": "display_data"
    }
   ],
   "execution_count": 26
  },
  {
   "metadata": {},
   "cell_type": "markdown",
   "source": [
    "# Interpretazione dei Risultati\n",
    "- Dai dati storici, possiamo vedere che la probabilità di un pareggio tende ad aumentare dopo un certo numero di partite senza pareggi\n",
    "- Le sequenze più comuni sono di 1-3 partite tra pareggi consecutivi (35% dei casi)\n",
    "- Quando sono passate 10-12 partite senza pareggi, la probabilità di un pareggio aumenta significativamente"
   ],
   "id": "2d9a15d4d79879c6"
  },
  {
   "metadata": {
    "ExecuteTime": {
     "end_time": "2025-05-14T12:32:50.263661Z",
     "start_time": "2025-05-14T12:32:50.254836Z"
    }
   },
   "cell_type": "code",
   "source": [
    "# Creiamo un semplice indicatore di \"alta probabilità di pareggio\"\n",
    "def predict_draw_probability(games_since_last):\n",
    "    if games_since_last >= 10:\n",
    "        return \"Alta probabilità di pareggio\"\n",
    "    elif games_since_last >= 7:\n",
    "        return \"Media probabilità di pareggio\"\n",
    "    else:\n",
    "        return \"Bassa probabilità di pareggio\"\n",
    "\n",
    "\n",
    "# Applichiamo l'indicatore all'ultima sequenza di giochi\n",
    "last_sequence = data.iloc[-1]['games_since_draw']\n",
    "print(f\"Stato attuale: {predict_draw_probability(last_sequence)}\")\n"
   ],
   "id": "53dac6e9555f2ae7",
   "outputs": [
    {
     "name": "stdout",
     "output_type": "stream",
     "text": [
      "Stato attuale: Bassa probabilità di pareggio\n"
     ]
    }
   ],
   "execution_count": 27
  }
 ],
 "metadata": {
  "kernelspec": {
   "display_name": "Python 3",
   "language": "python",
   "name": "python3"
  },
  "language_info": {
   "codemirror_mode": {
    "name": "ipython",
    "version": 2
   },
   "file_extension": ".py",
   "mimetype": "text/x-python",
   "name": "python",
   "nbconvert_exporter": "python",
   "pygments_lexer": "ipython2",
   "version": "2.7.6"
  }
 },
 "nbformat": 4,
 "nbformat_minor": 5
}
